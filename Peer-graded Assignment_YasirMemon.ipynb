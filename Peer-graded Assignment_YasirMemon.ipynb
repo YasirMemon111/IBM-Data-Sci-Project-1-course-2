{
 "cells": [
  {
   "cell_type": "markdown",
   "id": "5dee4827-75be-4b28-bf39-111a669b29be",
   "metadata": {
    "tags": []
   },
   "source": [
    "Notebook"
   ]
  },
  {
   "cell_type": "markdown",
   "id": "7234e175-8ad1-43f7-a083-dcec6ce94a00",
   "metadata": {},
   "source": [
    "Inroduction\n"
   ]
  },
  {
   "cell_type": "markdown",
   "id": "cbd7304f-eca4-482c-8599-bbf911d516a3",
   "metadata": {},
   "source": [
    "data science languages.\n",
    "\n",
    "1. Python \n",
    "2. R\n",
    "3. C++ \n"
   ]
  },
  {
   "cell_type": "markdown",
   "id": "006bb9b2-601a-4b43-808e-529d7cc7a617",
   "metadata": {},
   "source": [
    "data science libraries\n",
    "\n",
    "1. Pandas\n",
    "2. numpy libraries\n",
    "3. Matplotlib"
   ]
  },
  {
   "cell_type": "markdown",
   "id": "ae483a4f-74c0-4167-a0e4-56549d5d83e3",
   "metadata": {},
   "source": [
    " Data Science tools\n",
    " 1. Jupyter notebook \n",
    " 2. R Studio\n",
    " "
   ]
  },
  {
   "cell_type": "markdown",
   "id": "fd49f647-3970-4267-a6df-663e06973a96",
   "metadata": {},
   "source": [
    "Arthhmatic expressions\n",
    "\n",
    "1. 2+2\n",
    "2. 3*8\n",
    "3. (4+4)*6"
   ]
  },
  {
   "cell_type": "code",
   "execution_count": 6,
   "id": "f7cf1638-b6f0-4b9f-8210-f15dacab5899",
   "metadata": {
    "tags": []
   },
   "outputs": [
    {
     "data": {
      "text/plain": [
       "540"
      ]
     },
     "execution_count": 6,
     "metadata": {},
     "output_type": "execute_result"
    }
   ],
   "source": [
    "(8+2)*54\n"
   ]
  },
  {
   "cell_type": "code",
   "execution_count": 7,
   "id": "6cd1a60f-90a2-401a-9b33-b2b783634207",
   "metadata": {
    "tags": []
   },
   "outputs": [
    {
     "name": "stdout",
     "output_type": "stream",
     "text": [
      "2.0\n"
     ]
    }
   ],
   "source": [
    "minutes= 120\n",
    "hours= minutes/60\n",
    "print(hours)"
   ]
  },
  {
   "cell_type": "markdown",
   "id": "a0ff4b81-8e40-47c6-ac73-856b25252f15",
   "metadata": {},
   "source": [
    "Objectives\n",
    "\n",
    "* getting hands wet with data science\n",
    "* getting learn about jupyter notebook\n",
    "* learning about github\n"
   ]
  },
  {
   "cell_type": "markdown",
   "id": "3bb47593-4c70-4605-aa59-21e1b9d7a48b",
   "metadata": {},
   "source": [
    "Author \n",
    "Yasir Memon\n"
   ]
  },
  {
   "cell_type": "code",
   "execution_count": null,
   "id": "8cde372d-8fd6-4c16-892f-b2e82b1ef14f",
   "metadata": {},
   "outputs": [],
   "source": []
  },
  {
   "cell_type": "markdown",
   "id": "209a74e4-19ad-44c2-8f03-b5c166a562f9",
   "metadata": {},
   "source": []
  },
  {
   "cell_type": "markdown",
   "id": "99b03432-a868-480a-a2f6-fb4280935d0e",
   "metadata": {},
   "source": []
  }
 ],
 "metadata": {
  "kernelspec": {
   "display_name": "Python",
   "language": "python",
   "name": "conda-env-python-py"
  },
  "language_info": {
   "codemirror_mode": {
    "name": "ipython",
    "version": 3
   },
   "file_extension": ".py",
   "mimetype": "text/x-python",
   "name": "python",
   "nbconvert_exporter": "python",
   "pygments_lexer": "ipython3",
   "version": "3.7.12"
  }
 },
 "nbformat": 4,
 "nbformat_minor": 5
}
